{
 "cells": [
  {
   "cell_type": "code",
   "execution_count": null,
   "metadata": {},
   "outputs": [],
   "source": [
    "import os\n",
    "os.getcwd()"
   ]
  },
  {
   "cell_type": "code",
   "execution_count": null,
   "metadata": {},
   "outputs": [],
   "source": [
    "os.chdir(\"../../..\")\n",
    "os.getcwd()"
   ]
  },
  {
   "cell_type": "markdown",
   "metadata": {},
   "source": [
    "In this tutorial, you’re going to use a Jupyter notebook and the ISAAC Python API. \n",
    "\n",
    "The first thing you do is import Isaac and create an application.\n",
    "\n",
    "Click on the cell each cell in order and press the `Run` button above to see the code in action."
   ]
  },
  {
   "cell_type": "code",
   "execution_count": null,
   "metadata": {},
   "outputs": [],
   "source": [
    "# Create an Isaac application\n",
    "from packages.pyalice import Application, Codelet, Message\n",
    "app = Application()\n",
    "print('Application created')"
   ]
  },
  {
   "cell_type": "markdown",
   "metadata": {},
   "source": [
    "Now configure your application graph. Your sample application will have a graph with two nodes: \n",
    "1. A “mock” node that continually generates mock camera and object detection data.\n",
    "2. An “echo” node that is configured to echo back any messages sent to it.\n",
    "\n",
    "Start by creating and configuring the mock node."
   ]
  },
  {
   "cell_type": "code",
   "execution_count": null,
   "metadata": {},
   "outputs": [],
   "source": [
    "# Load the message generator module\n",
    "app.load_module('message_generators')\n",
    "\n",
    "# Create the mock node\n",
    "mock_node = app.add('mock')\n",
    "\n",
    "# Add the camera component to the mock node\n",
    "mock_camera = mock_node.add(app.registry.isaac.message_generators.CameraGenerator, 'camera')\n",
    "mock_camera.config['tick_period'] = '50ms'\n",
    "mock_camera.config['rows'] = 240\n",
    "mock_camera.config['cols'] = 320\n",
    "\n",
    "# Add the detection component to the mock node\n",
    "mock_detection = mock_node.add(app.registry.isaac.message_generators.Detections2Generator, 'detections2')\n",
    "mock_detection.config['tick_period'] = '50ms'\n",
    "mock_detection.config['detection_configuration'] = [\n",
    "  {\n",
    "    \"class_label\": \"mock_detection\",\n",
    "    \"confidence\": 0.8,\n",
    "    \"bounding_box_coordinates\": [\n",
    "      0.0,\n",
    "      0.0,\n",
    "      100.0,\n",
    "      100.0\n",
    "    ]\n",
    "  }\n",
    "]\n",
    "\n",
    "print('Mock node created')"
   ]
  },
  {
   "cell_type": "markdown",
   "metadata": {},
   "source": [
    "Next, create the echo node and connect the `in` label to the `out` label."
   ]
  },
  {
   "cell_type": "code",
   "execution_count": null,
   "metadata": {
    "scrolled": true
   },
   "outputs": [],
   "source": [
    "# Create the echo node\n",
    "echo_node = app.add('echo')\n",
    "\n",
    "# Get the MessageLedger from the echo node. \n",
    "message_ledger = echo_node['MessageLedger']\n",
    "\n",
    "# Connect the `in` label to the `out` label. This will cause any messages sent to `in` to be rebroadcasts to `out`\n",
    "app.connect(message_ledger, 'in', message_ledger, 'out')\n",
    "\n",
    "print('Echo node created')"
   ]
  },
  {
   "cell_type": "markdown",
   "metadata": {},
   "source": [
    "Start the application."
   ]
  },
  {
   "cell_type": "code",
   "execution_count": null,
   "metadata": {},
   "outputs": [],
   "source": [
    "app.start()"
   ]
  },
  {
   "cell_type": "markdown",
   "metadata": {},
   "source": [
    "Grab an image from the mock camera. You must import the necessary libraries. Then you ask to receive the latest message from the color_left channel in the camera component running in the mock node. Finally, you use PIL and matplotlib to display the image in your Jupyter notebook."
   ]
  },
  {
   "cell_type": "code",
   "execution_count": null,
   "metadata": {},
   "outputs": [],
   "source": [
    "# Receive and display a single camera image\n",
    "from PIL import Image\n",
    "from matplotlib.pyplot import imshow\n",
    "msg = app.receive(\"mock\", \"camera\", \"color_left\")\n",
    "imshow(Image.fromarray((msg.tensor)))"
   ]
  },
  {
   "cell_type": "markdown",
   "metadata": {},
   "source": [
    "Isaac uses Cap’n Proto and binary buffers to keep packing messages efficient. In the next example, you create a ping message, attach a byte buffer using numpy, and send it to the echo node."
   ]
  },
  {
   "cell_type": "code",
   "execution_count": null,
   "metadata": {},
   "outputs": [],
   "source": [
    "# Create a message and attach a buffer\n",
    "import numpy as np\n",
    "send_msg = Message.create_message_builder('PingProto')\n",
    "send_msg.proto.message = 'Hello from Isaac'\n",
    "send_msg.buffers = [np.arange(20, dtype=np.dtype('B'))]\n",
    "app.publish('echo', 'MessageLedger', 'in', send_msg)\n",
    "print('Message sent')"
   ]
  },
  {
   "cell_type": "markdown",
   "metadata": {},
   "source": [
    "Because you sent a message to the `in` channel in the ledger component of the echo node, you can expect to receive the same message in the `out` channel of the ledger component of the echo node."
   ]
  },
  {
   "cell_type": "code",
   "execution_count": null,
   "metadata": {},
   "outputs": [],
   "source": [
    "# Receive a message, print the proto and buffer\n",
    "recv_msg = app.receive('echo', 'MessageLedger', 'out')\n",
    "print(recv_msg.proto.message)\n",
    "print(np.asarray(recv_msg.buffers[0]))"
   ]
  },
  {
   "cell_type": "markdown",
   "metadata": {},
   "source": [
    "Isaac supports a variety of message types. For more information, see [Message API Overview](https://docs.nvidia.com/isaac/isaac/doc/message_api.html).\n",
    "\n",
    "You can quickly explore the payload of any message type by printing the .proto field. Here is an example using a detection message:"
   ]
  },
  {
   "cell_type": "code",
   "execution_count": null,
   "metadata": {},
   "outputs": [],
   "source": [
    "# Discovering information about a proto payload\n",
    "recv_msg = app.receive('mock', 'detections2', 'mock_detections')\n",
    "print(recv_msg.proto)"
   ]
  },
  {
   "cell_type": "markdown",
   "metadata": {},
   "source": [
    "Components may have configuration parameters that can be set at runtime. For example, the mock camera has “rows” and “cols” parameters that control the resolution of the mock camera."
   ]
  },
  {
   "cell_type": "code",
   "execution_count": null,
   "metadata": {},
   "outputs": [],
   "source": [
    "# Get config values of camera and display them\n",
    "print(mock_camera.config['rows'])\n",
    "print(mock_camera.config['cols'])"
   ]
  },
  {
   "cell_type": "markdown",
   "metadata": {},
   "source": [
    "You can also change these configuration parameters"
   ]
  },
  {
   "cell_type": "code",
   "execution_count": null,
   "metadata": {},
   "outputs": [],
   "source": [
    "# Set config values of camera to 720p, and display them\n",
    "mock_camera.config['rows'] = 720\n",
    "mock_camera.config['cols'] = 1280\n",
    "print(mock_camera.config['rows'])\n",
    "print(mock_camera.config['cols'])"
   ]
  },
  {
   "cell_type": "markdown",
   "metadata": {},
   "source": [
    "Get an image from the mock camera and see that it’s now a 720p image."
   ]
  },
  {
   "cell_type": "code",
   "execution_count": null,
   "metadata": {},
   "outputs": [],
   "source": [
    "# Receive and display a single camera image, now at 720p\n",
    "msg = app.receive(\"mock\", \"camera\", \"color_left\")\n",
    "imshow(Image.fromarray((msg.tensor)))"
   ]
  },
  {
   "cell_type": "markdown",
   "metadata": {},
   "source": [
    "When you are done with the Isaac application, you should call stop. This lets Isaac know to safely stop and release any resources that it was using."
   ]
  },
  {
   "cell_type": "code",
   "execution_count": null,
   "metadata": {},
   "outputs": [],
   "source": [
    "# Stop the ISAAC application\n",
    "app.stop()"
   ]
  },
  {
   "cell_type": "code",
   "execution_count": null,
   "metadata": {},
   "outputs": [],
   "source": []
  }
 ],
 "metadata": {
  "kernelspec": {
   "display_name": "Python 3",
   "language": "python",
   "name": "python3"
  },
  "language_info": {
   "codemirror_mode": {
    "name": "ipython",
    "version": 3
   },
   "file_extension": ".py",
   "mimetype": "text/x-python",
   "name": "python",
   "nbconvert_exporter": "python",
   "pygments_lexer": "ipython3",
   "version": "3.6.9"
  }
 },
 "nbformat": 4,
 "nbformat_minor": 4
}