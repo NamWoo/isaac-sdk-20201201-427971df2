{
 "cells": [
  {
   "cell_type": "code",
   "execution_count": null,
   "metadata": {},
   "outputs": [],
   "source": [
    "import os\n",
    "os.getcwd()"
   ]
  },
  {
   "cell_type": "code",
   "execution_count": null,
   "metadata": {},
   "outputs": [],
   "source": [
    "os.chdir(\"../../..\")\n",
    "os.getcwd()"
   ]
  },
  {
   "cell_type": "code",
   "execution_count": null,
   "metadata": {},
   "outputs": [],
   "source": [
    "CASK_PATH='</path/to/cask/>'\n",
    "CHANNEL='color'\n",
    "\n",
    "from packages.pyalice import Application, Codelet\n",
    "import io, ipywidgets, IPython\n",
    "from PIL import Image\n",
    "# View the images\n",
    "image_widget = ipywidgets.Image(height=720, width=1280)"
   ]
  },
  {
   "cell_type": "code",
   "execution_count": null,
   "metadata": {},
   "outputs": [],
   "source": [
    "class Viewer(Codelet):\n",
    "    def __init__(self):\n",
    "        self.widget=None\n",
    "    \n",
    "    def start(self):\n",
    "        self.rx = self.isaac_proto_rx(\"ImageProto\", \"color\")\n",
    "        self.tick_on_message(self.rx)\n",
    "\n",
    "    def tick(self):\n",
    "        msg = self.rx.message\n",
    "        if self.widget is None:\n",
    "            return\n",
    "        t = msg.tensor\n",
    "        bts = io.BytesIO()\n",
    "        Image.fromarray(t).save(bts, 'png')\n",
    "        self.widget.value = bts.getvalue()"
   ]
  },
  {
   "cell_type": "code",
   "execution_count": null,
   "metadata": {},
   "outputs": [],
   "source": [
    "IPython.display.display(image_widget)\n",
    "\n",
    "app = Application()\n",
    " \n",
    "replay_node = app.add('replay')\n",
    "replay_component = replay_node.add(app.registry.isaac.alice.Replay)\n",
    "replay_component.config['cask_directory'] = CASK_PATH\n",
    "replay_component.config['report_success'] = True\n",
    "\n",
    "viewer_node = app.add('viewer')\n",
    "viewer_component = viewer_node.add(Viewer)\n",
    "\n",
    "app.connect(replay_component, 'color', viewer_component, 'color')\n",
    "\n",
    "app._pycodelet_frontends[viewer_component].widget=image_widget\n",
    "\n",
    "app.run(20.0)"
   ]
  },
  {
   "cell_type": "code",
   "execution_count": null,
   "metadata": {},
   "outputs": [],
   "source": [
    "app = Application()\n",
    "\n",
    "app.load_module('viewers')\n",
    "\n",
    "replay_node = app.add('replay')\n",
    "replay_component = replay_node.add(app.registry.isaac.alice.Replay)\n",
    "replay_component.config['cask_directory'] = CASK_PATH\n",
    "replay_component.config['report_success'] = True\n",
    "\n",
    "viewer_node = app.add('viewer')\n",
    "viewer_component = viewer_node.add(app.registry.isaac.viewers.ImageViewer)\n",
    "widget = viewer_node.add(app.registry.isaac.sight.SightWidget)\n",
    "widget.config['type'] = '2d'\n",
    "widget.config['channels'] = [{'name':'viewer/ImageViewer/Color', 'active': True}]\n",
    "widget.config['dimensions'] = [int(720), int(1280)]\n",
    "\n",
    "app.connect(replay_component, 'color', viewer_component, 'image')\n",
    "\n",
    "app.run(30.0)"
   ]
  }
 ],
 "metadata": {
  "kernelspec": {
   "display_name": "Python 3",
   "language": "python",
   "name": "python3"
  },
  "language_info": {
   "codemirror_mode": {
    "name": "ipython",
    "version": 3
   },
   "file_extension": ".py",
   "mimetype": "text/x-python",
   "name": "python",
   "nbconvert_exporter": "python",
   "pygments_lexer": "ipython3",
   "version": "3.6.9"
  }
 },
 "nbformat": 4,
 "nbformat_minor": 4
}
